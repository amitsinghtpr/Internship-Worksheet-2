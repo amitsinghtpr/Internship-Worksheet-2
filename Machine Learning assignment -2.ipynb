{
 "cells": [
  {
   "cell_type": "markdown",
   "id": "03354b02",
   "metadata": {},
   "source": [
    "**Q1 to Q11 have only one correct answer. Choose the correct option to answer your question**"
   ]
  },
  {
   "cell_type": "markdown",
   "id": "cf6baff8",
   "metadata": {},
   "source": [
    "Q1. Movie Recommendation systems are an example of:\n",
    "\n",
    "Ans: 2 and 3 . i.e -Clustering and Regression."
   ]
  },
  {
   "cell_type": "markdown",
   "id": "177d89d7",
   "metadata": {},
   "source": [
    "Q2. Sentiment Analysis is an example of:\n",
    "\n",
    "Ans:1 and 3. i.e Regression and Clustering."
   ]
  },
  {
   "cell_type": "markdown",
   "id": "d4546376",
   "metadata": {},
   "source": [
    "Q3. Can decision trees be used for performing clustering?\n",
    "Ans: True."
   ]
  },
  {
   "cell_type": "markdown",
   "id": "e66418e1",
   "metadata": {},
   "source": [
    "Q4. Which of the following is the most appropriate strategy for data cleaning before performing clustering \n",
    "analysis, given less than desirable number of data points:\n",
    "\n",
    "Ans: 1 and 2. because after capping and flouring of variables we can        proceeds for removing outliers \n"
   ]
  },
  {
   "cell_type": "markdown",
   "id": "9452004a",
   "metadata": {},
   "source": [
    "Q5. What is the minimum no. of variables/ features required to perform clustering?\n",
    "\n",
    "Ans:1 "
   ]
  },
  {
   "cell_type": "markdown",
   "id": "060d0483",
   "metadata": {},
   "source": [
    "Q6. For two runs of K-Mean clustering is it expected to get same clustering results?\n",
    "\n",
    "Ans: No"
   ]
  },
  {
   "cell_type": "markdown",
   "id": "946b37c4",
   "metadata": {},
   "source": [
    "Q7.Is it possible that Assignment of observations to clusters does not change between successive \n",
    "iterations in K-Means?\n",
    "\n",
    "Ans: Yes"
   ]
  },
  {
   "cell_type": "markdown",
   "id": "72ce9db1",
   "metadata": {},
   "source": [
    "Q8. Which of the following can act as possible termination conditions in K-Means?\n",
    "\n",
    "Ans: All the above."
   ]
  },
  {
   "cell_type": "markdown",
   "id": "d62aba81",
   "metadata": {},
   "source": [
    "Q9. Which of the following algorithms is most sensitive to outliers?\n",
    "\n",
    "Ans: K-means clustering algorithm"
   ]
  },
  {
   "cell_type": "markdown",
   "id": "6483934e",
   "metadata": {},
   "source": [
    "Q10. How can Clustering (Unsupervised Learning) be used to improve the accuracy of Linear Regression \n",
    "model (Supervised Learning):\n",
    "\n",
    "Ans: All the Above.\n"
   ]
  },
  {
   "cell_type": "markdown",
   "id": "5cfcb0b2",
   "metadata": {},
   "source": [
    "Q11. What could be the possible reason(s) for producing two different dendrograms using agglomerative \n",
    "clustering algorithms for the same dataset?\n",
    "\n",
    "Ans: All the Above."
   ]
  },
  {
   "cell_type": "markdown",
   "id": "56f3f3b3",
   "metadata": {},
   "source": [
    "**Q12 to Q14 are subjective answers type questions, Answers them in their own words briefly**\n"
   ]
  },
  {
   "cell_type": "markdown",
   "id": "93a08aad",
   "metadata": {},
   "source": [
    "12. Is K sensitive to outliers?\n",
    "\n",
    "Ans: A K-mean is sensitive to outliers beacause a mean is easily influenced by extreme values. \n",
    "\n",
    "13. Why is K means better?\n",
    "\n",
    "Ans: k means methods  assign records to each cluster to find the mutuallly exclusive cluster of spherical shape based on distance.k-mean needs advance knowledge of K that is no of cluster s one want to divide your data.\n",
    "\n",
    "14. Is K means a deterministic algorithm?\n",
    "\n",
    "Ans:The K-means clustering is based on a non-deterministic algorithms,This means that runnings the data several time may alter the output or could give different results."
   ]
  },
  {
   "cell_type": "code",
   "execution_count": null,
   "id": "532301b2",
   "metadata": {},
   "outputs": [],
   "source": []
  }
 ],
 "metadata": {
  "kernelspec": {
   "display_name": "Python 3 (ipykernel)",
   "language": "python",
   "name": "python3"
  },
  "language_info": {
   "codemirror_mode": {
    "name": "ipython",
    "version": 3
   },
   "file_extension": ".py",
   "mimetype": "text/x-python",
   "name": "python",
   "nbconvert_exporter": "python",
   "pygments_lexer": "ipython3",
   "version": "3.9.12"
  }
 },
 "nbformat": 4,
 "nbformat_minor": 5
}
