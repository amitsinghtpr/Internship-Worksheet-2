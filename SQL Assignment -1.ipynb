{
 "cells": [
  {
   "cell_type": "markdown",
   "id": "379929c3",
   "metadata": {},
   "source": [
    "                   Worksheet2-SQL"
   ]
  },
  {
   "cell_type": "markdown",
   "id": "7fddfd7f",
   "metadata": {},
   "source": [
    "**Q1 to Q13 have only one correct answer. Choose the correct option to answer your question.**"
   ]
  },
  {
   "cell_type": "markdown",
   "id": "18429c0a",
   "metadata": {},
   "source": [
    "Q1.Which of the following constraint requires that there should not be duplicate entries?\n",
    "\n",
    "Ans: d)UNIQUE"
   ]
  },
  {
   "cell_type": "markdown",
   "id": "36437ce1",
   "metadata": {},
   "source": [
    "Q2. Which of the following constraint allows null values in a column?\n",
    "\n",
    "Ans: c)Null"
   ]
  },
  {
   "cell_type": "markdown",
   "id": "84c60753",
   "metadata": {},
   "source": [
    "Q3. Which of the following statements are true regarding Primary Key?\n",
    "\n",
    "Ans: a)Each entry in the primary key uniquely identifies each entry or row in the table"
   ]
  },
  {
   "cell_type": "markdown",
   "id": "ffe0135a",
   "metadata": {},
   "source": [
    "Q4. Which of the following statements are true regarding Unique Key?\n",
    "\n",
    "Ans: d)All the above"
   ]
  },
  {
   "cell_type": "markdown",
   "id": "1e87b080",
   "metadata": {},
   "source": [
    "Q5. Which of the following is/are example of referential constraint?\n",
    "\n",
    "Ans: b) Foreign Key"
   ]
  },
  {
   "cell_type": "markdown",
   "id": "1d28e2b8",
   "metadata": {},
   "source": [
    "Q6. How many foreign keys are there in the Supplier table?\n",
    "\n",
    "Ans: c) 2."
   ]
  },
  {
   "cell_type": "markdown",
   "id": "37cb072d",
   "metadata": {},
   "source": [
    "Q7. The type of relationship between Supplier table and Product table is:\n",
    "\n",
    "Ans: a) One to Many"
   ]
  },
  {
   "cell_type": "markdown",
   "id": "ec76446d",
   "metadata": {},
   "source": [
    "Q8. The type of relationship between Order table and Headquarter table is:\n",
    "\n",
    "Ans: c) One to One"
   ]
  },
  {
   "cell_type": "markdown",
   "id": "53ba17fd",
   "metadata": {},
   "source": [
    "Q9. Which of the following is a foreign key in Delivery table?\n",
    "\n",
    "Ans: a) Delivery id"
   ]
  },
  {
   "cell_type": "markdown",
   "id": "02f73702",
   "metadata": {},
   "source": [
    "Q10. The number of foreign keys in order details is:\n",
    "\n",
    "Ans: d) 2."
   ]
  },
  {
   "cell_type": "markdown",
   "id": "96121e2b",
   "metadata": {},
   "source": [
    "Q11. The type of relationship between Order Detail table and Product table is:\n",
    "\n",
    "Ans: a) One to Many"
   ]
  },
  {
   "cell_type": "markdown",
   "id": "8bbb531a",
   "metadata": {},
   "source": [
    "Q12. DDL statements perform operation on which of the following database objects?\n",
    "\n",
    "Ans: c) Table"
   ]
  },
  {
   "cell_type": "markdown",
   "id": "ba497358",
   "metadata": {},
   "source": [
    "Q13. Which of the following statement is used to enter rows in a table?\n",
    "\n",
    "Ans:  a) Insert into"
   ]
  },
  {
   "cell_type": "markdown",
   "id": "14c15ba1",
   "metadata": {},
   "source": [
    "**Q14 and Q15 have one or more correct answer. Choose all the correct option to answer your question.**"
   ]
  },
  {
   "cell_type": "markdown",
   "id": "dd03a78d",
   "metadata": {},
   "source": [
    "Q14. Which of the following is/are entity constraints in SQL?\n",
    "\n",
    "Ans: c) Primary Key."
   ]
  },
  {
   "cell_type": "markdown",
   "id": "166e71a1",
   "metadata": {},
   "source": [
    "Q15. Which of the following statements is an example of semantic Constraint?\n",
    "\n",
    "Ans: a) A blood group can contain one of the following values- A,B,AB and O "
   ]
  },
  {
   "cell_type": "code",
   "execution_count": null,
   "id": "327f4a25",
   "metadata": {},
   "outputs": [],
   "source": []
  }
 ],
 "metadata": {
  "kernelspec": {
   "display_name": "Python 3 (ipykernel)",
   "language": "python",
   "name": "python3"
  },
  "language_info": {
   "codemirror_mode": {
    "name": "ipython",
    "version": 3
   },
   "file_extension": ".py",
   "mimetype": "text/x-python",
   "name": "python",
   "nbconvert_exporter": "python",
   "pygments_lexer": "ipython3",
   "version": "3.9.12"
  }
 },
 "nbformat": 4,
 "nbformat_minor": 5
}
