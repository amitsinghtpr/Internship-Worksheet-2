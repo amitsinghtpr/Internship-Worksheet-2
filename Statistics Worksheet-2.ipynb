{
 "cells": [
  {
   "cell_type": "markdown",
   "id": "480ff577",
   "metadata": {},
   "source": [
    "                     STATISTICS WORKSHEET-2"
   ]
  },
  {
   "cell_type": "markdown",
   "id": "9df8cfc9",
   "metadata": {},
   "source": [
    "Q1 to Q15 have only one correct answer. Choose the correct option to answer your question."
   ]
  },
  {
   "cell_type": "markdown",
   "id": "7238e594",
   "metadata": {},
   "source": [
    "1. What represent a population parameter?\n",
    "\n",
    "Ans:b) Mean\n"
   ]
  },
  {
   "cell_type": "markdown",
   "id": "ac3833a0",
   "metadata": {},
   "source": [
    "2. What will be median of following set of scores (18,6,12,10,15)?\n",
    "\n",
    "Ans:c)12."
   ]
  },
  {
   "cell_type": "markdown",
   "id": "80acd3eb",
   "metadata": {},
   "source": [
    "3. What is standard deviation?\n",
    "\n",
    "Ans:a) An aprroximate indicator of how number vary from the mean."
   ]
  },
  {
   "cell_type": "markdown",
   "id": "eb7c3f97",
   "metadata": {},
   "source": [
    "4. The intervals should be ______ in a grouped frequency distribution\n",
    "\n",
    "Ans:c) Both of these"
   ]
  },
  {
   "cell_type": "markdown",
   "id": "79efb550",
   "metadata": {},
   "source": [
    "5. What is the goal of descriptive statistics?\n",
    "\n",
    "Ans: b) Summarizing and explaning a specific set of data."
   ]
  },
  {
   "cell_type": "markdown",
   "id": "cfbd8e7e",
   "metadata": {},
   "source": [
    "6. A set of data organized in a participant by variables format is called\n",
    "\n",
    "Ans: b)Data set"
   ]
  },
  {
   "cell_type": "markdown",
   "id": "27cfdc45",
   "metadata": {},
   "source": [
    "7. In multiple regression,_______ independent variables are used\n",
    "\n",
    "Ans: a)2 or more"
   ]
  },
  {
   "cell_type": "markdown",
   "id": "921b573c",
   "metadata": {},
   "source": [
    "8. Which of the following is used when you want to visually examine the relationship between 2 quantitative\n",
    "\n",
    "Ans: c) Bar graph"
   ]
  },
  {
   "cell_type": "markdown",
   "id": "f4563f88",
   "metadata": {},
   "source": [
    "9. Two or more groups means are compared by using\n",
    "\n",
    "Ans:d) Analysis of variance"
   ]
  },
  {
   "cell_type": "markdown",
   "id": "d8d36c9f",
   "metadata": {},
   "source": [
    "10. _______is a raw score which has been transformed into standard deviation units?\n",
    "\n",
    "Ans:a) Z-score"
   ]
  },
  {
   "cell_type": "markdown",
   "id": "1444ba8c",
   "metadata": {},
   "source": [
    "11. _______is the value calculated when you want the arithmetic average?\n",
    "\n",
    "Ans: c)Mean"
   ]
  },
  {
   "cell_type": "markdown",
   "id": "745c9d9b",
   "metadata": {},
   "source": [
    "12. Find the mean of these set of number (4,6,7,9,2000000)?\n",
    "\n",
    "\n",
    "Ans:d) 400005.2"
   ]
  },
  {
   "cell_type": "markdown",
   "id": "46c2d88b",
   "metadata": {},
   "source": [
    "13. _______ is a measure of central tendency that takes into account the magnitude of scores?\n",
    "\n",
    "Ans:c) Median"
   ]
  },
  {
   "cell_type": "markdown",
   "id": "0db2272e",
   "metadata": {},
   "source": [
    "14. ______ focuses on describing or explaining data whereas ______involves going beyond immediate \n",
    "data and making inferences\n",
    "\n",
    "Ans:a) Descriptive and inferences"
   ]
  },
  {
   "cell_type": "markdown",
   "id": "b7d25f11",
   "metadata": {},
   "source": [
    "15. What is the formula for range?\n",
    "\n",
    "Ans: d) H-L"
   ]
  },
  {
   "cell_type": "code",
   "execution_count": null,
   "id": "d2123e14",
   "metadata": {},
   "outputs": [],
   "source": []
  }
 ],
 "metadata": {
  "kernelspec": {
   "display_name": "Python 3 (ipykernel)",
   "language": "python",
   "name": "python3"
  },
  "language_info": {
   "codemirror_mode": {
    "name": "ipython",
    "version": 3
   },
   "file_extension": ".py",
   "mimetype": "text/x-python",
   "name": "python",
   "nbconvert_exporter": "python",
   "pygments_lexer": "ipython3",
   "version": "3.9.12"
  }
 },
 "nbformat": 4,
 "nbformat_minor": 5
}
